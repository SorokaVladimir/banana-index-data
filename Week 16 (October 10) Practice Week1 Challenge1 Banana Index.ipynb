{
 "cells": [
  {
   "cell_type": "markdown",
   "metadata": {},
   "source": [
    "## Challenge #1\n",
    "\n",
    "1 Download the data into a data frame. Set the index to be the entity column. Remove the year, Banana values, type, and Chart? columns.\n",
    "\n",
    "2 Three  columns contain pre-computed banana scores for kg, calories, and protein. For each of these columns, show the 10 highest-scoring food products.\n",
    "\n",
    "\n",
    "3 Which foods, if any, have the highest banana score on all three lists?\n",
    "\n",
    "4 Create a new column, named Bananas index (land use 1000 kcal), calculating that food item's use of land for every 1,000 kcal. Which 10 foods have the highest score? Do any appear on the three previous lists?\n",
    "\n",
    "5 What kind of cheese has the highest banana score per 1,000 kcal?\n",
    "\n",
    "6 Show the correlations among the four computed banana scores. Which values seem to correlate most highly?\n",
    "\n",
    "7 Highlight any correlations in the range 0.8 to 0.99 using a different color."
   ]
  },
  {
   "cell_type": "code",
   "execution_count": null,
   "metadata": {},
   "outputs": [],
   "source": []
  },
  {
   "cell_type": "code",
   "execution_count": 102,
   "metadata": {},
   "outputs": [],
   "source": [
    "import pandas as pd\n",
    "import numpy as np\n",
    "from matplotlib import pyplot as plt"
   ]
  },
  {
   "cell_type": "code",
   "execution_count": 103,
   "metadata": {},
   "outputs": [
    {
     "data": {
      "text/html": [
       "<div>\n",
       "<style scoped>\n",
       "    .dataframe tbody tr th:only-of-type {\n",
       "        vertical-align: middle;\n",
       "    }\n",
       "\n",
       "    .dataframe tbody tr th {\n",
       "        vertical-align: top;\n",
       "    }\n",
       "\n",
       "    .dataframe thead th {\n",
       "        text-align: right;\n",
       "    }\n",
       "</style>\n",
       "<table border=\"1\" class=\"dataframe\">\n",
       "  <thead>\n",
       "    <tr style=\"text-align: right;\">\n",
       "      <th></th>\n",
       "      <th>emissions_kg</th>\n",
       "      <th>emissions_1000kcal</th>\n",
       "      <th>emissions_100g_protein</th>\n",
       "      <th>emissions_100g_fat</th>\n",
       "      <th>land_use_kg</th>\n",
       "      <th>land_use_1000kcal</th>\n",
       "      <th>Land use per 100 grams of protein</th>\n",
       "      <th>Land use per 100 grams of fat</th>\n",
       "      <th>Bananas index (kg)</th>\n",
       "      <th>Bananas index (1000 kcalories)</th>\n",
       "      <th>Bananas index (100g protein)</th>\n",
       "    </tr>\n",
       "    <tr>\n",
       "      <th>entity</th>\n",
       "      <th></th>\n",
       "      <th></th>\n",
       "      <th></th>\n",
       "      <th></th>\n",
       "      <th></th>\n",
       "      <th></th>\n",
       "      <th></th>\n",
       "      <th></th>\n",
       "      <th></th>\n",
       "      <th></th>\n",
       "      <th></th>\n",
       "    </tr>\n",
       "  </thead>\n",
       "  <tbody>\n",
       "    <tr>\n",
       "      <th>Ale</th>\n",
       "      <td>0.488690</td>\n",
       "      <td>0.317338</td>\n",
       "      <td>0.878525</td>\n",
       "      <td>2.424209</td>\n",
       "      <td>0.811485</td>\n",
       "      <td>0.601152</td>\n",
       "      <td>1.577687</td>\n",
       "      <td>3.065766</td>\n",
       "      <td>0.559558</td>\n",
       "      <td>0.362340</td>\n",
       "      <td>0.113771</td>\n",
       "    </tr>\n",
       "    <tr>\n",
       "      <th>Almond butter</th>\n",
       "      <td>0.387011</td>\n",
       "      <td>0.067265</td>\n",
       "      <td>0.207599</td>\n",
       "      <td>0.079103</td>\n",
       "      <td>7.683045</td>\n",
       "      <td>1.296870</td>\n",
       "      <td>3.608433</td>\n",
       "      <td>1.495297</td>\n",
       "      <td>0.443134</td>\n",
       "      <td>0.076804</td>\n",
       "      <td>0.026885</td>\n",
       "    </tr>\n",
       "    <tr>\n",
       "      <th>Almond milk</th>\n",
       "      <td>0.655888</td>\n",
       "      <td>2.222230</td>\n",
       "      <td>13.595512</td>\n",
       "      <td>4.057470</td>\n",
       "      <td>1.370106</td>\n",
       "      <td>2.675063</td>\n",
       "      <td>12.687839</td>\n",
       "      <td>4.600530</td>\n",
       "      <td>0.751002</td>\n",
       "      <td>2.537364</td>\n",
       "      <td>1.760651</td>\n",
       "    </tr>\n",
       "    <tr>\n",
       "      <th>Almonds</th>\n",
       "      <td>0.602368</td>\n",
       "      <td>0.105029</td>\n",
       "      <td>0.328335</td>\n",
       "      <td>0.119361</td>\n",
       "      <td>8.230927</td>\n",
       "      <td>1.423376</td>\n",
       "      <td>4.261040</td>\n",
       "      <td>1.610136</td>\n",
       "      <td>0.689721</td>\n",
       "      <td>0.119923</td>\n",
       "      <td>0.042520</td>\n",
       "    </tr>\n",
       "    <tr>\n",
       "      <th>Apple juice</th>\n",
       "      <td>0.458378</td>\n",
       "      <td>0.955184</td>\n",
       "      <td>29.152212</td>\n",
       "      <td>19.754980</td>\n",
       "      <td>0.660629</td>\n",
       "      <td>1.382839</td>\n",
       "      <td>43.232158</td>\n",
       "      <td>26.246743</td>\n",
       "      <td>0.524851</td>\n",
       "      <td>1.090638</td>\n",
       "      <td>3.775280</td>\n",
       "    </tr>\n",
       "  </tbody>\n",
       "</table>\n",
       "</div>"
      ],
      "text/plain": [
       "               emissions_kg  emissions_1000kcal  emissions_100g_protein  \\\n",
       "entity                                                                    \n",
       "Ale                0.488690            0.317338                0.878525   \n",
       "Almond butter      0.387011            0.067265                0.207599   \n",
       "Almond milk        0.655888            2.222230               13.595512   \n",
       "Almonds            0.602368            0.105029                0.328335   \n",
       "Apple juice        0.458378            0.955184               29.152212   \n",
       "\n",
       "               emissions_100g_fat  land_use_kg  land_use_1000kcal  \\\n",
       "entity                                                              \n",
       "Ale                      2.424209     0.811485           0.601152   \n",
       "Almond butter            0.079103     7.683045           1.296870   \n",
       "Almond milk              4.057470     1.370106           2.675063   \n",
       "Almonds                  0.119361     8.230927           1.423376   \n",
       "Apple juice             19.754980     0.660629           1.382839   \n",
       "\n",
       "               Land use per 100 grams of protein  \\\n",
       "entity                                             \n",
       "Ale                                     1.577687   \n",
       "Almond butter                           3.608433   \n",
       "Almond milk                            12.687839   \n",
       "Almonds                                 4.261040   \n",
       "Apple juice                            43.232158   \n",
       "\n",
       "               Land use per 100 grams of fat  Bananas index (kg)  \\\n",
       "entity                                                             \n",
       "Ale                                 3.065766            0.559558   \n",
       "Almond butter                       1.495297            0.443134   \n",
       "Almond milk                         4.600530            0.751002   \n",
       "Almonds                             1.610136            0.689721   \n",
       "Apple juice                        26.246743            0.524851   \n",
       "\n",
       "               Bananas index (1000 kcalories)  Bananas index (100g protein)  \n",
       "entity                                                                       \n",
       "Ale                                  0.362340                      0.113771  \n",
       "Almond butter                        0.076804                      0.026885  \n",
       "Almond milk                          2.537364                      1.760651  \n",
       "Almonds                              0.119923                      0.042520  \n",
       "Apple juice                          1.090638                      3.775280  "
      ]
     },
     "execution_count": 103,
     "metadata": {},
     "output_type": "execute_result"
    }
   ],
   "source": [
    "#1 Download the data into a data frame. Set the index to be the entity column. Remove the year, Banana values, type, and Chart? columns.\n",
    "df = (pd.\n",
    "      read_csv('bananaindex.csv',\n",
    "                index_col='entity'\n",
    "                )\n",
    "    .drop(['year', 'type', 'Chart?','Banana values','Unnamed: 16'], axis = 'columns')                        \n",
    "    #.drop(df.filter(regex = '^Banana').columns, axis= 'columns')\n",
    ")\n",
    "df.head(5)"
   ]
  },
  {
   "cell_type": "code",
   "execution_count": 104,
   "metadata": {},
   "outputs": [
    {
     "data": {
      "text/html": [
       "<div>\n",
       "<style scoped>\n",
       "    .dataframe tbody tr th:only-of-type {\n",
       "        vertical-align: middle;\n",
       "    }\n",
       "\n",
       "    .dataframe tbody tr th {\n",
       "        vertical-align: top;\n",
       "    }\n",
       "\n",
       "    .dataframe thead th {\n",
       "        text-align: right;\n",
       "    }\n",
       "</style>\n",
       "<table border=\"1\" class=\"dataframe\">\n",
       "  <thead>\n",
       "    <tr style=\"text-align: right;\">\n",
       "      <th></th>\n",
       "      <th>emissions_kg</th>\n",
       "      <th>emissions_1000kcal</th>\n",
       "      <th>emissions_100g_protein</th>\n",
       "      <th>emissions_100g_fat</th>\n",
       "      <th>land_use_kg</th>\n",
       "      <th>land_use_1000kcal</th>\n",
       "      <th>Land use per 100 grams of protein</th>\n",
       "      <th>Land use per 100 grams of fat</th>\n",
       "      <th>Bananas index (kg)</th>\n",
       "      <th>Bananas index (1000 kcalories)</th>\n",
       "      <th>Bananas index (100g protein)</th>\n",
       "    </tr>\n",
       "  </thead>\n",
       "  <tbody>\n",
       "    <tr>\n",
       "      <th>count</th>\n",
       "      <td>160.000000</td>\n",
       "      <td>160.000000</td>\n",
       "      <td>158.000000</td>\n",
       "      <td>160.000000</td>\n",
       "      <td>160.000000</td>\n",
       "      <td>160.000000</td>\n",
       "      <td>158.000000</td>\n",
       "      <td>160.000000</td>\n",
       "      <td>160.000000</td>\n",
       "      <td>160.000000</td>\n",
       "      <td>160.000000</td>\n",
       "    </tr>\n",
       "    <tr>\n",
       "      <th>mean</th>\n",
       "      <td>6.936928</td>\n",
       "      <td>4.188070</td>\n",
       "      <td>12.344095</td>\n",
       "      <td>23.150107</td>\n",
       "      <td>13.898771</td>\n",
       "      <td>6.926527</td>\n",
       "      <td>15.143724</td>\n",
       "      <td>28.478627</td>\n",
       "      <td>7.942899</td>\n",
       "      <td>4.781979</td>\n",
       "      <td>1.578607</td>\n",
       "    </tr>\n",
       "    <tr>\n",
       "      <th>std</th>\n",
       "      <td>15.182287</td>\n",
       "      <td>8.241275</td>\n",
       "      <td>26.924422</td>\n",
       "      <td>47.259550</td>\n",
       "      <td>45.260647</td>\n",
       "      <td>22.730966</td>\n",
       "      <td>28.171820</td>\n",
       "      <td>57.978954</td>\n",
       "      <td>17.383975</td>\n",
       "      <td>9.409969</td>\n",
       "      <td>3.469354</td>\n",
       "    </tr>\n",
       "    <tr>\n",
       "      <th>min</th>\n",
       "      <td>0.207276</td>\n",
       "      <td>0.067265</td>\n",
       "      <td>0.207599</td>\n",
       "      <td>0.079103</td>\n",
       "      <td>0.395357</td>\n",
       "      <td>0.427187</td>\n",
       "      <td>0.686572</td>\n",
       "      <td>1.032875</td>\n",
       "      <td>0.237335</td>\n",
       "      <td>0.076804</td>\n",
       "      <td>0.000000</td>\n",
       "    </tr>\n",
       "    <tr>\n",
       "      <th>25%</th>\n",
       "      <td>0.959064</td>\n",
       "      <td>0.553702</td>\n",
       "      <td>2.411551</td>\n",
       "      <td>2.787317</td>\n",
       "      <td>1.794341</td>\n",
       "      <td>1.218677</td>\n",
       "      <td>4.348589</td>\n",
       "      <td>4.597654</td>\n",
       "      <td>1.098145</td>\n",
       "      <td>0.632222</td>\n",
       "      <td>0.306258</td>\n",
       "    </tr>\n",
       "    <tr>\n",
       "      <th>50%</th>\n",
       "      <td>2.044956</td>\n",
       "      <td>1.208088</td>\n",
       "      <td>5.285952</td>\n",
       "      <td>7.564917</td>\n",
       "      <td>3.475277</td>\n",
       "      <td>2.148466</td>\n",
       "      <td>7.825508</td>\n",
       "      <td>9.806360</td>\n",
       "      <td>2.341509</td>\n",
       "      <td>1.379406</td>\n",
       "      <td>0.669045</td>\n",
       "    </tr>\n",
       "    <tr>\n",
       "      <th>75%</th>\n",
       "      <td>5.231546</td>\n",
       "      <td>4.663006</td>\n",
       "      <td>10.815254</td>\n",
       "      <td>20.340385</td>\n",
       "      <td>9.414903</td>\n",
       "      <td>4.596899</td>\n",
       "      <td>13.350834</td>\n",
       "      <td>27.270979</td>\n",
       "      <td>5.990209</td>\n",
       "      <td>5.324266</td>\n",
       "      <td>1.382850</td>\n",
       "    </tr>\n",
       "    <tr>\n",
       "      <th>max</th>\n",
       "      <td>129.747715</td>\n",
       "      <td>68.095953</td>\n",
       "      <td>257.293857</td>\n",
       "      <td>348.489652</td>\n",
       "      <td>427.331126</td>\n",
       "      <td>223.690135</td>\n",
       "      <td>211.381205</td>\n",
       "      <td>478.803717</td>\n",
       "      <td>148.563324</td>\n",
       "      <td>77.752629</td>\n",
       "      <td>33.320155</td>\n",
       "    </tr>\n",
       "  </tbody>\n",
       "</table>\n",
       "</div>"
      ],
      "text/plain": [
       "       emissions_kg  emissions_1000kcal  emissions_100g_protein  \\\n",
       "count    160.000000          160.000000              158.000000   \n",
       "mean       6.936928            4.188070               12.344095   \n",
       "std       15.182287            8.241275               26.924422   \n",
       "min        0.207276            0.067265                0.207599   \n",
       "25%        0.959064            0.553702                2.411551   \n",
       "50%        2.044956            1.208088                5.285952   \n",
       "75%        5.231546            4.663006               10.815254   \n",
       "max      129.747715           68.095953              257.293857   \n",
       "\n",
       "       emissions_100g_fat  land_use_kg  land_use_1000kcal  \\\n",
       "count          160.000000   160.000000         160.000000   \n",
       "mean            23.150107    13.898771           6.926527   \n",
       "std             47.259550    45.260647          22.730966   \n",
       "min              0.079103     0.395357           0.427187   \n",
       "25%              2.787317     1.794341           1.218677   \n",
       "50%              7.564917     3.475277           2.148466   \n",
       "75%             20.340385     9.414903           4.596899   \n",
       "max            348.489652   427.331126         223.690135   \n",
       "\n",
       "       Land use per 100 grams of protein  Land use per 100 grams of fat  \\\n",
       "count                         158.000000                     160.000000   \n",
       "mean                           15.143724                      28.478627   \n",
       "std                            28.171820                      57.978954   \n",
       "min                             0.686572                       1.032875   \n",
       "25%                             4.348589                       4.597654   \n",
       "50%                             7.825508                       9.806360   \n",
       "75%                            13.350834                      27.270979   \n",
       "max                           211.381205                     478.803717   \n",
       "\n",
       "       Bananas index (kg)  Bananas index (1000 kcalories)  \\\n",
       "count          160.000000                      160.000000   \n",
       "mean             7.942899                        4.781979   \n",
       "std             17.383975                        9.409969   \n",
       "min              0.237335                        0.076804   \n",
       "25%              1.098145                        0.632222   \n",
       "50%              2.341509                        1.379406   \n",
       "75%              5.990209                        5.324266   \n",
       "max            148.563324                       77.752629   \n",
       "\n",
       "       Bananas index (100g protein)  \n",
       "count                    160.000000  \n",
       "mean                       1.578607  \n",
       "std                        3.469354  \n",
       "min                        0.000000  \n",
       "25%                        0.306258  \n",
       "50%                        0.669045  \n",
       "75%                        1.382850  \n",
       "max                       33.320155  "
      ]
     },
     "execution_count": 104,
     "metadata": {},
     "output_type": "execute_result"
    }
   ],
   "source": [
    "df.describe()"
   ]
  },
  {
   "cell_type": "code",
   "execution_count": 105,
   "metadata": {},
   "outputs": [
    {
     "name": "stdout",
     "output_type": "stream",
     "text": [
      "<class 'pandas.core.frame.DataFrame'>\n",
      "Index: 160 entries, Ale to Yoghurt\n",
      "Data columns (total 11 columns):\n",
      " #   Column                             Non-Null Count  Dtype  \n",
      "---  ------                             --------------  -----  \n",
      " 0   emissions_kg                       160 non-null    float64\n",
      " 1   emissions_1000kcal                 160 non-null    float64\n",
      " 2   emissions_100g_protein             158 non-null    float64\n",
      " 3   emissions_100g_fat                 160 non-null    float64\n",
      " 4   land_use_kg                        160 non-null    float64\n",
      " 5   land_use_1000kcal                  160 non-null    float64\n",
      " 6   Land use per 100 grams of protein  158 non-null    float64\n",
      " 7   Land use per 100 grams of fat      160 non-null    float64\n",
      " 8   Bananas index (kg)                 160 non-null    float64\n",
      " 9   Bananas index (1000 kcalories)     160 non-null    float64\n",
      " 10  Bananas index (100g protein)       160 non-null    float64\n",
      "dtypes: float64(11)\n",
      "memory usage: 15.0+ KB\n"
     ]
    }
   ],
   "source": [
    "df.info()"
   ]
  },
  {
   "cell_type": "code",
   "execution_count": 106,
   "metadata": {},
   "outputs": [
    {
     "data": {
      "text/plain": [
       "'3.13.0 (tags/v3.13.0:60403a5, Oct  7 2024, 09:38:07) [MSC v.1941 64 bit (AMD64)]'"
      ]
     },
     "execution_count": 106,
     "metadata": {},
     "output_type": "execute_result"
    }
   ],
   "source": [
    "import sys\n",
    "sys.version"
   ]
  },
  {
   "cell_type": "code",
   "execution_count": 107,
   "metadata": {},
   "outputs": [
    {
     "data": {
      "text/plain": [
       "(160, 11)"
      ]
     },
     "execution_count": 107,
     "metadata": {},
     "output_type": "execute_result"
    }
   ],
   "source": [
    "df.shape"
   ]
  },
  {
   "cell_type": "code",
   "execution_count": 108,
   "metadata": {},
   "outputs": [
    {
     "name": "stdout",
     "output_type": "stream",
     "text": [
      "Bananas index (kg)\n",
      "entity\n",
      "Beef steak         148.563324\n",
      "Beef mince         108.816189\n",
      "Beef meatballs      81.052853\n",
      "Beef burger         61.803856\n",
      "Lamb chops          35.383303\n",
      "Lamb (leg)          35.198904\n",
      "Lamb burgers        30.833345\n",
      "Cottage cheese      28.944313\n",
      "Parmesan cheese     27.499275\n",
      "Prawns              23.943772\n",
      "Name: Bananas index (kg), dtype: float64\n",
      "\n",
      "Bananas index (1000 kcalories)\n",
      "entity\n",
      "Beef steak        77.752629\n",
      "Beef mince        54.049393\n",
      "Beef meatballs    35.782826\n",
      "Cottage cheese    33.508657\n",
      "Prawns            30.063042\n",
      "Lettuce           28.915534\n",
      "Raspberries       28.105624\n",
      "Beef burger       25.011498\n",
      "Lamb (leg)        17.335509\n",
      "Coconut milk      14.670763\n",
      "Name: Bananas index (1000 kcalories), dtype: float64\n",
      "\n",
      "Bananas index (100g protein)\n",
      "entity\n",
      "Coconut milk      33.320155\n",
      "Sugar             20.685802\n",
      "Grapes            15.128521\n",
      "Beef steak         8.312805\n",
      "Raspberries        7.878815\n",
      "Beef mince         6.878002\n",
      "Marmalade          6.495684\n",
      "Butter             6.192303\n",
      "Lettuce            5.173570\n",
      "Beef meatballs     4.612929\n",
      "Name: Bananas index (100g protein), dtype: float64\n",
      "\n"
     ]
    }
   ],
   "source": [
    "#2 Three  columns contain pre-computed banana scores for kg, calories, and protein. For each of these columns, show the 10 highest-scoring food products.\n",
    "\n",
    "for column_name in df.filter(regex=r'^Banana').columns:\n",
    "    print(column_name)\n",
    "    print(df[column_name].nlargest(10))\n",
    "    print()\n"
   ]
  },
  {
   "cell_type": "code",
   "execution_count": 109,
   "metadata": {},
   "outputs": [],
   "source": [
    "#3 Which foods, if any, have the highest banana score on all three lists?\n"
   ]
  },
  {
   "cell_type": "code",
   "execution_count": 110,
   "metadata": {},
   "outputs": [
    {
     "data": {
      "text/plain": [
       "[Index(['Beef steak', 'Beef mince', 'Beef meatballs', 'Beef burger',\n",
       "        'Lamb chops', 'Lamb (leg)', 'Lamb burgers', 'Cottage cheese',\n",
       "        'Parmesan cheese', 'Prawns'],\n",
       "       dtype='object', name='entity'),\n",
       " Index(['Beef steak', 'Beef mince', 'Beef meatballs', 'Cottage cheese',\n",
       "        'Prawns', 'Lettuce', 'Raspberries', 'Beef burger', 'Lamb (leg)',\n",
       "        'Coconut milk'],\n",
       "       dtype='object', name='entity'),\n",
       " Index(['Coconut milk', 'Sugar', 'Grapes', 'Beef steak', 'Raspberries',\n",
       "        'Beef mince', 'Marmalade', 'Butter', 'Lettuce', 'Beef meatballs'],\n",
       "       dtype='object', name='entity')]"
      ]
     },
     "execution_count": 110,
     "metadata": {},
     "output_type": "execute_result"
    }
   ],
   "source": [
    "results = []\n",
    "for column_name in df.filter(regex=r'^Banana').columns:\n",
    "    results.append(df[column_name].nlargest(10).index)\n",
    "results    \n",
    "#df= pd.DataFrame(results)"
   ]
  },
  {
   "cell_type": "code",
   "execution_count": 111,
   "metadata": {},
   "outputs": [
    {
     "data": {
      "text/plain": [
       "Index(['Beef steak', 'Beef mince', 'Beef meatballs', 'Beef burger',\n",
       "       'Lamb (leg)', 'Cottage cheese', 'Prawns'],\n",
       "      dtype='object', name='entity')"
      ]
     },
     "execution_count": 111,
     "metadata": {},
     "output_type": "execute_result"
    }
   ],
   "source": [
    "results[0].intersection(results[1])"
   ]
  },
  {
   "cell_type": "code",
   "execution_count": 112,
   "metadata": {},
   "outputs": [],
   "source": [
    "#df=df.transpose()\n",
    "#df"
   ]
  },
  {
   "cell_type": "code",
   "execution_count": 113,
   "metadata": {},
   "outputs": [
    {
     "data": {
      "text/plain": [
       "Index(['Beef steak', 'Beef mince', 'Beef meatballs'], dtype='object', name='entity')"
      ]
     },
     "execution_count": 113,
     "metadata": {},
     "output_type": "execute_result"
    }
   ],
   "source": [
    "final_intersection = results[0]\n",
    "for one_result_index in results[1:]:\n",
    "    final_intersection = final_intersection.intersection(one_result_index)\n",
    "\n",
    "final_intersection"
   ]
  },
  {
   "cell_type": "code",
   "execution_count": 119,
   "metadata": {},
   "outputs": [
    {
     "data": {
      "text/plain": [
       "entity\n",
       "Beef steak          223.690135\n",
       "Beef mince          147.166781\n",
       "Beef meatballs       94.463012\n",
       "Beef burger          54.560874\n",
       "Cottage cheese       34.694337\n",
       "Lettuce              34.681560\n",
       "Lamb (leg)           21.444985\n",
       "Lentils              20.535191\n",
       "Lamb chops           16.711250\n",
       "Chilli con carne     16.398791\n",
       "Name: Bananas index (land use 1000 kcal), dtype: float64"
      ]
     },
     "execution_count": 119,
     "metadata": {},
     "output_type": "execute_result"
    }
   ],
   "source": [
    "#4 Create a new column, named Bananas index (land use 1000 kcal), calculating that food item's use of land for every 1,000 kcal. Which 10 foods have the highest score? Do any appear on the three previous lists?\n",
    "df['Bananas index (land use 1000 kcal)']=df['land_use_1000kcal']\n",
    "df['Bananas index (land use 1000 kcal)'].nlargest(10)\n"
   ]
  },
  {
   "cell_type": "code",
   "execution_count": 121,
   "metadata": {},
   "outputs": [],
   "source": [
    "df['Bananas index (land use 1000 kcal)']=df['land_use_1000kcal']/df['Bananas index (1000 kcalories)']"
   ]
  },
  {
   "cell_type": "code",
   "execution_count": 122,
   "metadata": {},
   "outputs": [
    {
     "data": {
      "text/plain": [
       "entity\n",
       "Ale                1.659085\n",
       "Almond butter     16.885538\n",
       "Almond milk        1.054268\n",
       "Almonds           11.869108\n",
       "Apple juice        1.267917\n",
       "                    ...    \n",
       "Tortilla wraps     2.178627\n",
       "Tuna               0.368453\n",
       "Walnuts            4.114198\n",
       "Watermelon         0.930070\n",
       "Yoghurt            0.905311\n",
       "Name: Bananas index (land use 1000 kcal), Length: 160, dtype: float64"
      ]
     },
     "execution_count": 122,
     "metadata": {},
     "output_type": "execute_result"
    }
   ],
   "source": [
    "df['Bananas index (land use 1000 kcal)']"
   ]
  },
  {
   "cell_type": "code",
   "execution_count": null,
   "metadata": {},
   "outputs": [
    {
     "data": {
      "text/plain": [
       "entity\n",
       "Almond butter      16.885538\n",
       "Almonds            11.869108\n",
       "Beans               9.698478\n",
       "Lentils             9.160004\n",
       "Chickpeas           8.706410\n",
       "Garden peas         5.775405\n",
       "Meat-free mince     5.506117\n",
       "Falafels            5.369652\n",
       "Sunflower seeds     4.969843\n",
       "Cashew nuts         4.815795\n",
       "Name: bananas_land_use_100_kcal, dtype: float64"
      ]
     },
     "execution_count": 125,
     "metadata": {},
     "output_type": "execute_result"
    }
   ],
   "source": [
    "(\n",
    "    df\n",
    "    .assign(bananas_land_use_100_kcal = lambda df_: df_['land_use_1000kcal'] / df['Bananas index (1000 kcalories)'])\n",
    "['bananas_land_use_100_kcal']\n",
    ".nlargest(10)\n",
    ")"
   ]
  },
  {
   "cell_type": "code",
   "execution_count": 126,
   "metadata": {},
   "outputs": [
    {
     "data": {
      "text/plain": [
       "entity\n",
       "Almond butter      16.885538\n",
       "Almonds            11.869108\n",
       "Beans               9.698478\n",
       "Lentils             9.160004\n",
       "Chickpeas           8.706410\n",
       "Garden peas         5.775405\n",
       "Meat-free mince     5.506117\n",
       "Falafels            5.369652\n",
       "Sunflower seeds     4.969843\n",
       "Cashew nuts         4.815795\n",
       "Name: bananas_land_use_100_kcal, dtype: float64"
      ]
     },
     "execution_count": 126,
     "metadata": {},
     "output_type": "execute_result"
    }
   ],
   "source": [
    "(\n",
    "    df\n",
    "    .assign(bananas_land_use_100_kcal = df['land_use_1000kcal'] / df['Bananas index (1000 kcalories)'])\n",
    "['bananas_land_use_100_kcal']\n",
    ".nlargest(10)\n",
    ")"
   ]
  },
  {
   "cell_type": "code",
   "execution_count": 142,
   "metadata": {},
   "outputs": [
    {
     "data": {
      "text/plain": [
       "entity\n",
       "Cottage cheese          33.508657\n",
       "Mozzarella cheese        7.723795\n",
       "Parmesan cheese          7.272295\n",
       "Goat’s cheese            7.102344\n",
       "Blue cheese              6.980327\n",
       "Cheddar cheese           6.172845\n",
       "Halloumi cheese          6.031632\n",
       "Macaroni cheese          5.989042\n",
       "Ricotta cheese           5.939072\n",
       "Feta cheese              5.757135\n",
       "Chocolate cheesecake     1.368605\n",
       "Cheesecake               0.798615\n",
       "Name: Bananas index (1000 kcalories), dtype: float64"
      ]
     },
     "execution_count": 142,
     "metadata": {},
     "output_type": "execute_result"
    }
   ],
   "source": [
    "#5 What kind of cheese has the highest banana score per 1,000 kcal?\n",
    "(\n",
    "    df.filter(like='heese', axis ='rows')\n",
    "    ['Bananas index (1000 kcalories)']\n",
    "    .sort_values(ascending=False)\n",
    ")"
   ]
  },
  {
   "cell_type": "code",
   "execution_count": 146,
   "metadata": {},
   "outputs": [
    {
     "data": {
      "text/html": [
       "<div>\n",
       "<style scoped>\n",
       "    .dataframe tbody tr th:only-of-type {\n",
       "        vertical-align: middle;\n",
       "    }\n",
       "\n",
       "    .dataframe tbody tr th {\n",
       "        vertical-align: top;\n",
       "    }\n",
       "\n",
       "    .dataframe thead th {\n",
       "        text-align: right;\n",
       "    }\n",
       "</style>\n",
       "<table border=\"1\" class=\"dataframe\">\n",
       "  <thead>\n",
       "    <tr style=\"text-align: right;\">\n",
       "      <th></th>\n",
       "      <th>Bananas index (kg)</th>\n",
       "      <th>Bananas index (1000 kcalories)</th>\n",
       "      <th>Bananas index (100g protein)</th>\n",
       "      <th>Bananas index (land use 1000 kcal)</th>\n",
       "      <th>bananas_land_use_100_kcal</th>\n",
       "    </tr>\n",
       "  </thead>\n",
       "  <tbody>\n",
       "    <tr>\n",
       "      <th>Bananas index (kg)</th>\n",
       "      <td>1.000000</td>\n",
       "      <td>0.882639</td>\n",
       "      <td>0.224555</td>\n",
       "      <td>-0.047357</td>\n",
       "      <td>-0.047357</td>\n",
       "    </tr>\n",
       "    <tr>\n",
       "      <th>Bananas index (1000 kcalories)</th>\n",
       "      <td>0.882639</td>\n",
       "      <td>1.000000</td>\n",
       "      <td>0.368001</td>\n",
       "      <td>-0.123671</td>\n",
       "      <td>-0.123671</td>\n",
       "    </tr>\n",
       "    <tr>\n",
       "      <th>Bananas index (100g protein)</th>\n",
       "      <td>0.224555</td>\n",
       "      <td>0.368001</td>\n",
       "      <td>1.000000</td>\n",
       "      <td>-0.187997</td>\n",
       "      <td>-0.187997</td>\n",
       "    </tr>\n",
       "    <tr>\n",
       "      <th>Bananas index (land use 1000 kcal)</th>\n",
       "      <td>-0.047357</td>\n",
       "      <td>-0.123671</td>\n",
       "      <td>-0.187997</td>\n",
       "      <td>1.000000</td>\n",
       "      <td>1.000000</td>\n",
       "    </tr>\n",
       "    <tr>\n",
       "      <th>bananas_land_use_100_kcal</th>\n",
       "      <td>-0.047357</td>\n",
       "      <td>-0.123671</td>\n",
       "      <td>-0.187997</td>\n",
       "      <td>1.000000</td>\n",
       "      <td>1.000000</td>\n",
       "    </tr>\n",
       "  </tbody>\n",
       "</table>\n",
       "</div>"
      ],
      "text/plain": [
       "                                    Bananas index (kg)  \\\n",
       "Bananas index (kg)                            1.000000   \n",
       "Bananas index (1000 kcalories)                0.882639   \n",
       "Bananas index (100g protein)                  0.224555   \n",
       "Bananas index (land use 1000 kcal)           -0.047357   \n",
       "bananas_land_use_100_kcal                    -0.047357   \n",
       "\n",
       "                                    Bananas index (1000 kcalories)  \\\n",
       "Bananas index (kg)                                        0.882639   \n",
       "Bananas index (1000 kcalories)                            1.000000   \n",
       "Bananas index (100g protein)                              0.368001   \n",
       "Bananas index (land use 1000 kcal)                       -0.123671   \n",
       "bananas_land_use_100_kcal                                -0.123671   \n",
       "\n",
       "                                    Bananas index (100g protein)  \\\n",
       "Bananas index (kg)                                      0.224555   \n",
       "Bananas index (1000 kcalories)                          0.368001   \n",
       "Bananas index (100g protein)                            1.000000   \n",
       "Bananas index (land use 1000 kcal)                     -0.187997   \n",
       "bananas_land_use_100_kcal                              -0.187997   \n",
       "\n",
       "                                    Bananas index (land use 1000 kcal)  \\\n",
       "Bananas index (kg)                                           -0.047357   \n",
       "Bananas index (1000 kcalories)                               -0.123671   \n",
       "Bananas index (100g protein)                                 -0.187997   \n",
       "Bananas index (land use 1000 kcal)                            1.000000   \n",
       "bananas_land_use_100_kcal                                     1.000000   \n",
       "\n",
       "                                    bananas_land_use_100_kcal  \n",
       "Bananas index (kg)                                  -0.047357  \n",
       "Bananas index (1000 kcalories)                      -0.123671  \n",
       "Bananas index (100g protein)                        -0.187997  \n",
       "Bananas index (land use 1000 kcal)                   1.000000  \n",
       "bananas_land_use_100_kcal                            1.000000  "
      ]
     },
     "execution_count": 146,
     "metadata": {},
     "output_type": "execute_result"
    }
   ],
   "source": [
    "#6 Show the correlations among the four computed banana scores. Which values seem to correlate most highly?\n",
    "(\n",
    "    df.assign(bananas_land_use_100_kcal = lambda df_: df_['land_use_1000kcal'] / df['Bananas index (1000 kcalories)'])\n",
    "    .filter(like='anana')\n",
    "    .corr()\n",
    ")"
   ]
  },
  {
   "cell_type": "code",
   "execution_count": 151,
   "metadata": {},
   "outputs": [
    {
     "data": {
      "text/html": [
       "<style type=\"text/css\">\n",
       "#T_ed2b3_row0_col1, #T_ed2b3_row1_col0 {\n",
       "  background-color: #abcdef;\n",
       "}\n",
       "#T_ed2b3_row0_col2, #T_ed2b3_row0_col3, #T_ed2b3_row0_col4, #T_ed2b3_row1_col3, #T_ed2b3_row1_col4, #T_ed2b3_row2_col0, #T_ed2b3_row2_col3, #T_ed2b3_row2_col4, #T_ed2b3_row3_col0, #T_ed2b3_row3_col1, #T_ed2b3_row3_col2, #T_ed2b3_row4_col0, #T_ed2b3_row4_col1, #T_ed2b3_row4_col2 {\n",
       "  background-color: #dd0000;\n",
       "}\n",
       "</style>\n",
       "<table id=\"T_ed2b3\">\n",
       "  <thead>\n",
       "    <tr>\n",
       "      <th class=\"blank level0\" >&nbsp;</th>\n",
       "      <th id=\"T_ed2b3_level0_col0\" class=\"col_heading level0 col0\" >Bananas index (kg)</th>\n",
       "      <th id=\"T_ed2b3_level0_col1\" class=\"col_heading level0 col1\" >Bananas index (1000 kcalories)</th>\n",
       "      <th id=\"T_ed2b3_level0_col2\" class=\"col_heading level0 col2\" >Bananas index (100g protein)</th>\n",
       "      <th id=\"T_ed2b3_level0_col3\" class=\"col_heading level0 col3\" >Bananas index (land use 1000 kcal)</th>\n",
       "      <th id=\"T_ed2b3_level0_col4\" class=\"col_heading level0 col4\" >bananas_land_use_100_kcal</th>\n",
       "    </tr>\n",
       "  </thead>\n",
       "  <tbody>\n",
       "    <tr>\n",
       "      <th id=\"T_ed2b3_level0_row0\" class=\"row_heading level0 row0\" >Bananas index (kg)</th>\n",
       "      <td id=\"T_ed2b3_row0_col0\" class=\"data row0 col0\" >1.000000</td>\n",
       "      <td id=\"T_ed2b3_row0_col1\" class=\"data row0 col1\" >0.882639</td>\n",
       "      <td id=\"T_ed2b3_row0_col2\" class=\"data row0 col2\" >0.224555</td>\n",
       "      <td id=\"T_ed2b3_row0_col3\" class=\"data row0 col3\" >-0.047357</td>\n",
       "      <td id=\"T_ed2b3_row0_col4\" class=\"data row0 col4\" >-0.047357</td>\n",
       "    </tr>\n",
       "    <tr>\n",
       "      <th id=\"T_ed2b3_level0_row1\" class=\"row_heading level0 row1\" >Bananas index (1000 kcalories)</th>\n",
       "      <td id=\"T_ed2b3_row1_col0\" class=\"data row1 col0\" >0.882639</td>\n",
       "      <td id=\"T_ed2b3_row1_col1\" class=\"data row1 col1\" >1.000000</td>\n",
       "      <td id=\"T_ed2b3_row1_col2\" class=\"data row1 col2\" >0.368001</td>\n",
       "      <td id=\"T_ed2b3_row1_col3\" class=\"data row1 col3\" >-0.123671</td>\n",
       "      <td id=\"T_ed2b3_row1_col4\" class=\"data row1 col4\" >-0.123671</td>\n",
       "    </tr>\n",
       "    <tr>\n",
       "      <th id=\"T_ed2b3_level0_row2\" class=\"row_heading level0 row2\" >Bananas index (100g protein)</th>\n",
       "      <td id=\"T_ed2b3_row2_col0\" class=\"data row2 col0\" >0.224555</td>\n",
       "      <td id=\"T_ed2b3_row2_col1\" class=\"data row2 col1\" >0.368001</td>\n",
       "      <td id=\"T_ed2b3_row2_col2\" class=\"data row2 col2\" >1.000000</td>\n",
       "      <td id=\"T_ed2b3_row2_col3\" class=\"data row2 col3\" >-0.187997</td>\n",
       "      <td id=\"T_ed2b3_row2_col4\" class=\"data row2 col4\" >-0.187997</td>\n",
       "    </tr>\n",
       "    <tr>\n",
       "      <th id=\"T_ed2b3_level0_row3\" class=\"row_heading level0 row3\" >Bananas index (land use 1000 kcal)</th>\n",
       "      <td id=\"T_ed2b3_row3_col0\" class=\"data row3 col0\" >-0.047357</td>\n",
       "      <td id=\"T_ed2b3_row3_col1\" class=\"data row3 col1\" >-0.123671</td>\n",
       "      <td id=\"T_ed2b3_row3_col2\" class=\"data row3 col2\" >-0.187997</td>\n",
       "      <td id=\"T_ed2b3_row3_col3\" class=\"data row3 col3\" >1.000000</td>\n",
       "      <td id=\"T_ed2b3_row3_col4\" class=\"data row3 col4\" >1.000000</td>\n",
       "    </tr>\n",
       "    <tr>\n",
       "      <th id=\"T_ed2b3_level0_row4\" class=\"row_heading level0 row4\" >bananas_land_use_100_kcal</th>\n",
       "      <td id=\"T_ed2b3_row4_col0\" class=\"data row4 col0\" >-0.047357</td>\n",
       "      <td id=\"T_ed2b3_row4_col1\" class=\"data row4 col1\" >-0.123671</td>\n",
       "      <td id=\"T_ed2b3_row4_col2\" class=\"data row4 col2\" >-0.187997</td>\n",
       "      <td id=\"T_ed2b3_row4_col3\" class=\"data row4 col3\" >1.000000</td>\n",
       "      <td id=\"T_ed2b3_row4_col4\" class=\"data row4 col4\" >1.000000</td>\n",
       "    </tr>\n",
       "  </tbody>\n",
       "</table>\n"
      ],
      "text/plain": [
       "<pandas.io.formats.style.Styler at 0x266e1b57250>"
      ]
     },
     "execution_count": 151,
     "metadata": {},
     "output_type": "execute_result"
    }
   ],
   "source": [
    "#7 Highlight any correlations in the range 0.8 to 0.99 using a different color.\n",
    "(\n",
    "    df.assign(bananas_land_use_100_kcal = lambda df_: df_['land_use_1000kcal'] / df['Bananas index (1000 kcalories)'])\n",
    "    .filter(like='anana')\n",
    "    .corr()\n",
    "    .style\n",
    "    .highlight_between(left=0.8, right=0.99, color='#abcdef')\n",
    "    .highlight_between(left=-1, right=0.3, color='#dd0000')\n",
    "   \n",
    ")"
   ]
  }
 ],
 "metadata": {
  "kernelspec": {
   "display_name": "Python 3",
   "language": "python",
   "name": "python3"
  },
  "language_info": {
   "codemirror_mode": {
    "name": "ipython",
    "version": 3
   },
   "file_extension": ".py",
   "mimetype": "text/x-python",
   "name": "python",
   "nbconvert_exporter": "python",
   "pygments_lexer": "ipython3",
   "version": "3.13.0"
  }
 },
 "nbformat": 4,
 "nbformat_minor": 2
}
